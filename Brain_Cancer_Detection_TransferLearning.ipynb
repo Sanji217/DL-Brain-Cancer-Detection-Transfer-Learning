{
  "nbformat": 4,
  "nbformat_minor": 0,
  "metadata": {
    "colab": {
      "provenance": [],
      "gpuType": "T4"
    },
    "kernelspec": {
      "name": "python3",
      "display_name": "Python 3"
    },
    "language_info": {
      "name": "python"
    },
    "accelerator": "GPU"
  },
  "cells": [
    {
      "cell_type": "code",
      "execution_count": null,
      "metadata": {
        "id": "tixIaK4H1SjR"
      },
      "outputs": [],
      "source": [
        "from google.colab import drive\n",
        "drive.mount(\"/content/drive\")"
      ]
    },
    {
      "cell_type": "code",
      "source": [
        "import numpy as np\n",
        "import matplotlib.pyplot as plt\n",
        "import os\n",
        "import math\n",
        "import shutil\n",
        "import glob"
      ],
      "metadata": {
        "id": "Dn9xZdxH1VRA"
      },
      "execution_count": 6,
      "outputs": []
    },
    {
      "cell_type": "code",
      "source": [
        "#Count the number of images in the respective classes - 0 - Brain Tumor and 1 - Healthy\n",
        "ROOT_DIR = \"/content/drive/MyDrive/Dataset/Brain_Tumor_Detection\"\n",
        "number_of_images = {}\n",
        "for dir in os.listdir(ROOT_DIR):\n",
        "  number_of_images[dir] = len(os.listdir(os.path.join(ROOT_DIR, dir)))\n",
        "number_of_images.items()\n"
      ],
      "metadata": {
        "id": "ntaAcMQ01XgP"
      },
      "execution_count": null,
      "outputs": []
    },
    {
      "cell_type": "code",
      "source": [
        "len(os.listdir(\"/content/drive/MyDrive/Dataset/Brain_Tumor_Detection\"))"
      ],
      "metadata": {
        "colab": {
          "base_uri": "https://localhost:8080/"
        },
        "id": "Z4AOWXo71aev",
        "outputId": "b494771b-b73b-4b5f-b56a-5bb14be499e6"
      },
      "execution_count": 4,
      "outputs": [
        {
          "output_type": "execute_result",
          "data": {
            "text/plain": [
              "2"
            ]
          },
          "metadata": {},
          "execution_count": 4
        }
      ]
    },
    {
      "cell_type": "code",
      "source": [
        "def dataFolder(p, split):\n",
        "  #Creating train Folder\n",
        "  if not os.path.exists('./'+p):\n",
        "    os.mkdir('./' + p)\n",
        "\n",
        "    for dir in os.listdir(ROOT_DIR):\n",
        "      os.makedirs('./' + p + \"/\" +dir)\n",
        "\n",
        "      for img in np.random.choice(a = os.listdir(os.path.join(ROOT_DIR, dir)),\n",
        "                                size = (math.floor(split * number_of_images[dir])-5),\n",
        "                                replace = False):\n",
        "        O = os.path.join(ROOT_DIR, dir, img)\n",
        "        D = os.path.join(\"./\"+p , dir)\n",
        "        shutil.copy(O, D)\n",
        "        os.remove(O)\n",
        "  else:\n",
        "    print(f\"{p} folder exists\")\n"
      ],
      "metadata": {
        "id": "j3qraWcJ1dR4"
      },
      "execution_count": 8,
      "outputs": []
    },
    {
      "cell_type": "code",
      "source": [
        "dataFolder('train', 0.7)"
      ],
      "metadata": {
        "id": "8dJH_6wr1flH"
      },
      "execution_count": 6,
      "outputs": []
    },
    {
      "cell_type": "code",
      "source": [
        "dataFolder('val', 0.15)"
      ],
      "metadata": {
        "id": "KIaevDsI5XiH"
      },
      "execution_count": 7,
      "outputs": []
    },
    {
      "cell_type": "code",
      "source": [
        "dataFolder('test', 0.15)"
      ],
      "metadata": {
        "id": "BeIDrOBv5aiW"
      },
      "execution_count": 8,
      "outputs": []
    },
    {
      "cell_type": "code",
      "source": [
        "import os\n",
        "\n",
        "folder_path = '/content/train/yes'  # Path to the folder containing images\n",
        "image_files = os.listdir(folder_path)\n",
        "\n",
        "# Print the first 5 image filenames to confirm\n",
        "print(image_files[:5])\n"
      ],
      "metadata": {
        "id": "ZTeZwREHJtSj"
      },
      "execution_count": null,
      "outputs": []
    },
    {
      "cell_type": "code",
      "source": [
        "from tensorflow.keras.preprocessing import image\n",
        "import numpy as np\n",
        "\n",
        "img_path = os.path.join(folder_path, image_files[0])\n",
        "\n",
        "img = image.load_img(img_path)\n",
        "\n",
        "img_array = np.array(img)\n",
        "\n",
        "print(img_array.shape)\n"
      ],
      "metadata": {
        "id": "x8hZYLPZJ5EZ"
      },
      "execution_count": null,
      "outputs": []
    },
    {
      "cell_type": "markdown",
      "source": [
        "Preparing Data\n"
      ],
      "metadata": {
        "id": "BFubG7yaWeDv"
      }
    },
    {
      "cell_type": "code",
      "source": [
        "from tensorflow.keras.preprocessing.image import ImageDataGenerator\n",
        "import tensorflow as tf\n",
        "from keras.applications.mobilenet import preprocess_input"
      ],
      "metadata": {
        "id": "3PzQ56HK1jat"
      },
      "execution_count": 14,
      "outputs": []
    },
    {
      "cell_type": "code",
      "source": [
        "def preprocessingImages(path):\n",
        "  \"\"\"\n",
        "  input : path\n",
        "  output: preprocessed images\n",
        "  \"\"\"\n",
        "  image_data = ImageDataGenerator(zoom_range = 0.2, shear_range = 0.2, preprocessing_function = preprocess_input, horizontal_flip = True)\n",
        "  image = image_data.flow_from_directory(directory = path, target_size = (224, 224), batch_size = 32, class_mode = 'binary')\n",
        "  return image"
      ],
      "metadata": {
        "id": "EdGK8i43Wc8w"
      },
      "execution_count": 18,
      "outputs": []
    },
    {
      "cell_type": "code",
      "source": [
        "def preprocessingImages2(path):\n",
        "  \"\"\"\n",
        "  input : path\n",
        "  output: preprocessed images\n",
        "  \"\"\"\n",
        "  image_data = ImageDataGenerator(preprocessing_function = preprocess_input)\n",
        "  image = image_data.flow_from_directory(directory = path, target_size = (224, 224), batch_size = 32, class_mode = 'binary')\n",
        "  return image"
      ],
      "metadata": {
        "id": "lAa541bYWsjX"
      },
      "execution_count": 19,
      "outputs": []
    },
    {
      "cell_type": "code",
      "source": [
        "path = '/content/train'\n",
        "train_data = preprocessingImages(path)"
      ],
      "metadata": {
        "id": "x_iHLZXt14zM"
      },
      "execution_count": null,
      "outputs": []
    },
    {
      "cell_type": "code",
      "source": [
        "\n",
        "path = '/content/test'\n",
        "test_data = preprocessingImages2(path)"
      ],
      "metadata": {
        "id": "PqUnZaaeBXcd"
      },
      "execution_count": null,
      "outputs": []
    },
    {
      "cell_type": "code",
      "source": [
        "path = '/content/val'\n",
        "val_data = preprocessingImages2(path)"
      ],
      "metadata": {
        "id": "IrP6J5UMBhuF"
      },
      "execution_count": null,
      "outputs": []
    },
    {
      "cell_type": "code",
      "source": [
        "train_data.class_indices"
      ],
      "metadata": {
        "id": "a9IHwznORuQJ"
      },
      "execution_count": null,
      "outputs": []
    },
    {
      "cell_type": "markdown",
      "source": [
        "Model Training with Transfer Learning"
      ],
      "metadata": {
        "id": "KDB6DiOWUiOf"
      }
    },
    {
      "cell_type": "code",
      "source": [
        "import numpy as np\n",
        "from matplotlib import pyplot as plt\n",
        "from tensorflow import keras\n",
        "from keras.layers import Flatten, Dense\n",
        "from keras.models import Model, load_model\n",
        "from keras.applications.mobilenet import MobileNet, preprocess_input\n"
      ],
      "metadata": {
        "id": "B5rNva6FUe6V"
      },
      "execution_count": 32,
      "outputs": []
    },
    {
      "cell_type": "code",
      "source": [
        "base_model = MobileNet(input_shape = (224, 224,3), include_top = False)"
      ],
      "metadata": {
        "id": "TW0iMO9vXqT4"
      },
      "execution_count": null,
      "outputs": []
    },
    {
      "cell_type": "code",
      "source": [
        "for layer in base_model.layers:\n",
        "  layer.trainable = False"
      ],
      "metadata": {
        "id": "UfO473ACYBdf"
      },
      "execution_count": 25,
      "outputs": []
    },
    {
      "cell_type": "code",
      "source": [
        "base_model.summary()"
      ],
      "metadata": {
        "id": "NOrYo1Y0YM_n"
      },
      "execution_count": null,
      "outputs": []
    },
    {
      "cell_type": "code",
      "source": [
        "X = base_model.output\n",
        "X = Flatten()(X)\n",
        "X = Dense(units = 1, activation ='sigmoid')(X)\n",
        "\n",
        "model = Model(base_model.input, X)"
      ],
      "metadata": {
        "id": "-zc0ZunLYmLn"
      },
      "execution_count": 29,
      "outputs": []
    },
    {
      "cell_type": "code",
      "source": [
        "model.summary()"
      ],
      "metadata": {
        "id": "-DIIc5c9Y73Q"
      },
      "execution_count": null,
      "outputs": []
    },
    {
      "cell_type": "code",
      "source": [
        "model.compile(optimizer = 'rmsprop', loss = keras.losses.binary_crossentropy, metrics = ['accuracy'])"
      ],
      "metadata": {
        "id": "ZHeQhzgeZJ4P"
      },
      "execution_count": 33,
      "outputs": []
    },
    {
      "cell_type": "code",
      "source": [
        "#Call back\n",
        "\n",
        "from keras.callbacks import ModelCheckpoint, EarlyStopping\n",
        "\n",
        "mc = ModelCheckpoint(monitor = 'val_accuracy', filepath = '/content/best_model.keras', verbose = 1, save_best_only = 1)\n",
        "\n",
        "es = EarlyStopping(monitor = 'val_accuracy', min_delta = 0.01, patience = 3, verbose = 1)\n",
        "\n",
        "cb = [mc, es]"
      ],
      "metadata": {
        "id": "JaRx7AXEZu03"
      },
      "execution_count": 35,
      "outputs": []
    },
    {
      "cell_type": "code",
      "source": [
        "hist = model.fit(train_data,\n",
        "                 steps_per_epoch = 8,\n",
        "                 epochs = 20,\n",
        "                 validation_data = val_data,\n",
        "                 validation_steps = 16,\n",
        "                 callbacks = cb)"
      ],
      "metadata": {
        "id": "BGFNU9UUaj6q"
      },
      "execution_count": null,
      "outputs": []
    },
    {
      "cell_type": "code",
      "source": [
        "model.save('/content/best_model.keras')"
      ],
      "metadata": {
        "id": "WLei1D4xMIy2"
      },
      "execution_count": 39,
      "outputs": []
    },
    {
      "cell_type": "code",
      "source": [
        "#load the best model\n",
        "\n",
        "model = load_model('./best_model.keras')"
      ],
      "metadata": {
        "id": "uMQFEvipbKNx"
      },
      "execution_count": 40,
      "outputs": []
    },
    {
      "cell_type": "code",
      "source": [
        "#Accuracy\n",
        "\n",
        "acc = model.evaluate(test_data)\n",
        "\n",
        "print(f\"Our model accuracy is: {acc * 100}%\")"
      ],
      "metadata": {
        "id": "QxBMtQiXbU_5"
      },
      "execution_count": null,
      "outputs": []
    },
    {
      "cell_type": "code",
      "source": [
        "h = hist.history\n",
        "h.keys()"
      ],
      "metadata": {
        "id": "fN05T5Yabrbp"
      },
      "execution_count": null,
      "outputs": []
    },
    {
      "cell_type": "code",
      "source": [
        "plt.plot(h['accuracy'])\n",
        "plt.plot(h['val_accuracy'], c = 'red')\n",
        "plt.title('acc vs val_accuracy')\n",
        "plt.show()"
      ],
      "metadata": {
        "id": "HOpnQBjgbwlX"
      },
      "execution_count": null,
      "outputs": []
    },
    {
      "cell_type": "code",
      "source": [
        "plt.plot(h['loss'])\n",
        "plt.plot(h['val_loss'], c = 'red')\n",
        "plt.title('loss vs val_loss')\n",
        "plt.show()"
      ],
      "metadata": {
        "id": "x2pLOmErcMxw"
      },
      "execution_count": null,
      "outputs": []
    }
  ]
}